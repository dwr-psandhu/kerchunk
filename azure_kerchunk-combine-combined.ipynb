{
 "cells": [
  {
   "cell_type": "markdown",
   "id": "6da8dad8",
   "metadata": {},
   "source": [
    "# Creates kerchunks from specified pattern or files on Azure Blobs"
   ]
  },
  {
   "cell_type": "code",
   "execution_count": null,
   "id": "a12b8b8e",
   "metadata": {},
   "outputs": [],
   "source": [
    "#!pip install autopep8\n",
    "\n",
    "import fsspec\n",
    "import ujson\n",
    "import xarray as xr\n",
    "from kerchunk.combine import MultiZarrToZarr\n",
    "from kerchunk.hdf import SingleHdf5ToZarr\n",
    "from tqdm import tqdm"
   ]
  },
  {
   "cell_type": "code",
   "execution_count": null,
   "id": "2583a1d6",
   "metadata": {},
   "outputs": [],
   "source": [
    "import adlfs\n",
    "\n",
    "print(adlfs.__version__)"
   ]
  },
  {
   "cell_type": "code",
   "execution_count": null,
   "id": "404f307b",
   "metadata": {},
   "outputs": [],
   "source": [
    "#If you want to see the available file systems\n",
    "#fsspec.available_protocols()"
   ]
  },
  {
   "cell_type": "markdown",
   "id": "c1dfb63f",
   "metadata": {},
   "source": [
    "## Needs to be improved... i.e. obtained from other credentials"
   ]
  },
  {
   "cell_type": "code",
   "execution_count": null,
   "id": "8d1cb9d6",
   "metadata": {},
   "outputs": [],
   "source": [
    "# needs to be improved\n",
    "account_dict = dict(account_name = \"<get this from the azure portal: storage account name>\",\n",
    "               account_key=\"<get this from the azure portal for this account name: key>\")"
   ]
  },
  {
   "cell_type": "code",
   "execution_count": null,
   "id": "9ae81828",
   "metadata": {},
   "outputs": [],
   "source": [
    "# Initiate fsspec filesystems for reading and writing\n",
    "fs_read = fsspec.filesystem(\"abfs\", **account_dict)\n",
    "\n",
    "#fs_write = fsspec.filesystem(\"\")\n",
    "fs_write = fsspec.filesystem(\"file\")\n",
    "\n",
    "#!az login --use-device-code"
   ]
  },
  {
   "cell_type": "markdown",
   "id": "c03a32c5",
   "metadata": {},
   "source": [
    "## Combine the zarr jsons from above into a single combined one"
   ]
  },
  {
   "cell_type": "code",
   "execution_count": null,
   "id": "cd925589",
   "metadata": {},
   "outputs": [],
   "source": [
    "from kerchunk.combine import MultiZarrToZarr"
   ]
  },
  {
   "cell_type": "code",
   "execution_count": null,
   "id": "3d0b82c4",
   "metadata": {},
   "outputs": [],
   "source": [
    "json_files = ['./hindcast2_combined_1_1000.json',\n",
    "              'hindcast2_combined_file_1000_2000.json',\n",
    "              'hindcast2_combined_file_2000_3949.json']"
   ]
  },
  {
   "cell_type": "code",
   "execution_count": null,
   "id": "6a00cbfc",
   "metadata": {},
   "outputs": [],
   "source": [
    "zz = MultiZarrToZarr(json_files,\n",
    "                     remote_protocol='abfs',remote_options=account_dict,\n",
    "                     concat_dims=['time'], identical_dims=['nSCHISM_hgrid_node', 'nSCHISM_vgrid_layers'])"
   ]
  },
  {
   "cell_type": "code",
   "execution_count": null,
   "id": "c45dab90",
   "metadata": {},
   "outputs": [],
   "source": [
    "with open(f'hindcast2_0000.json','wb') as ofh: \n",
    "    ofh.write(ujson.dumps(zz.translate()).encode())"
   ]
  },
  {
   "cell_type": "markdown",
   "id": "abac8e78",
   "metadata": {},
   "source": [
    "## See other notebook to read using the combined files"
   ]
  },
  {
   "cell_type": "markdown",
   "id": "327807e4",
   "metadata": {},
   "source": [
    "[using combined json files to read](./azure_kerchunk_read_combined.ipynb)"
   ]
  }
 ],
 "metadata": {
  "kernelspec": {
   "display_name": "base",
   "language": "python",
   "name": "python3"
  },
  "language_info": {
   "codemirror_mode": {
    "name": "ipython",
    "version": 3
   },
   "file_extension": ".py",
   "mimetype": "text/x-python",
   "name": "python",
   "nbconvert_exporter": "python",
   "pygments_lexer": "ipython3",
   "version": "3.8.15"
  },
  "toc": {
   "base_numbering": 1,
   "nav_menu": {},
   "number_sections": true,
   "sideBar": true,
   "skip_h1_title": false,
   "title_cell": "Table of Contents",
   "title_sidebar": "Contents",
   "toc_cell": false,
   "toc_position": {},
   "toc_section_display": true,
   "toc_window_display": false
  },
  "vscode": {
   "interpreter": {
    "hash": "fe541c37d19bd001748e92c02715440003c24e68d2c970c945a21c7a9f32c2be"
   }
  }
 },
 "nbformat": 4,
 "nbformat_minor": 5
}
