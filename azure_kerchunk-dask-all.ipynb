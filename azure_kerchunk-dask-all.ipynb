{
 "cells": [
  {
   "cell_type": "markdown",
   "id": "6da8dad8",
   "metadata": {},
   "source": [
    "# Creates kerchunks from specified pattern or files on Azure Blobs"
   ]
  },
  {
   "cell_type": "code",
   "execution_count": null,
   "id": "a12b8b8e",
   "metadata": {},
   "outputs": [],
   "source": [
    "#!pip install autopep8\n",
    "\n",
    "import fsspec\n",
    "import ujson\n",
    "import xarray as xr\n",
    "from kerchunk.combine import MultiZarrToZarr\n",
    "from kerchunk.hdf import SingleHdf5ToZarr\n",
    "from tqdm import tqdm"
   ]
  },
  {
   "cell_type": "code",
   "execution_count": null,
   "id": "2583a1d6",
   "metadata": {},
   "outputs": [],
   "source": [
    "import adlfs\n",
    "\n",
    "print(adlfs.__version__)"
   ]
  },
  {
   "cell_type": "code",
   "execution_count": null,
   "id": "404f307b",
   "metadata": {},
   "outputs": [],
   "source": [
    "#If you want to see the available file systems\n",
    "#fsspec.available_protocols()"
   ]
  },
  {
   "cell_type": "markdown",
   "id": "c1dfb63f",
   "metadata": {},
   "source": [
    "## Needs to be improved... i.e. obtained from other credentials"
   ]
  },
  {
   "cell_type": "code",
   "execution_count": null,
   "id": "8d1cb9d6",
   "metadata": {},
   "outputs": [],
   "source": [
    "# needs to be improved\n",
    "account_dict = dict(account_name = \"<get this from the azure portal: storage account name>\",\n",
    "               account_key=\"<get this from the azure portal for this account name: key>\")"
   ]
  },
  {
   "cell_type": "code",
   "execution_count": null,
   "id": "9ae81828",
   "metadata": {},
   "outputs": [],
   "source": [
    "# Initiate fsspec filesystems for reading and writing\n",
    "fs_read = fsspec.filesystem(\"abfs\", **account_dict)\n",
    "\n",
    "#fs_write = fsspec.filesystem(\"\")\n",
    "fs_write = fsspec.filesystem(\"file\")\n",
    "\n",
    "#!az login --use-device-code"
   ]
  },
  {
   "cell_type": "code",
   "execution_count": null,
   "id": "96b7a8b2",
   "metadata": {},
   "outputs": [],
   "source": [
    "file_range=(1,3948) # (1,1000)"
   ]
  },
  {
   "cell_type": "markdown",
   "id": "20c73838",
   "metadata": {},
   "source": [
    "# Retrieve list of available files. Can take a long time\n",
    "So instead used it to find out (by trial and error, could use a binary search here) to get the max number (3948) in this case"
   ]
  },
  {
   "cell_type": "code",
   "execution_count": null,
   "id": "b679679b",
   "metadata": {},
   "outputs": [],
   "source": [
    "blob_name = f\"abfs://bay-delta-schism2-v58/eli/simulations/hindcast_clinic2/outputs/schout_0001_{file_range[1]-1}.nc\"\n",
    "print(f'Looking for last blob name: {blob_name}')\n",
    "files_paths = fs_read.glob(blob_name)\n",
    "\n",
    "assert len(files_paths) == 1 # else you have specified to far a range, if this fails reduce the range above"
   ]
  },
  {
   "cell_type": "code",
   "execution_count": null,
   "id": "f85c1b7a",
   "metadata": {},
   "outputs": [],
   "source": [
    "# Here we prepend the prefix 'abfs://', which points to Azure Blobs.\n",
    "#file_pattern = sorted([\"abfs://\" + f for f in files_paths])# faster if you already know the patterns expected.\n",
    "file_pattern = [f'abfs://bay-delta-schism2-v58/eli/simulations/hindcast_clinic2/outputs/schout_0001_{i}.nc' \n",
    "                for i in range(*file_range)]"
   ]
  },
  {
   "cell_type": "code",
   "execution_count": null,
   "id": "0e33ffd1",
   "metadata": {},
   "outputs": [],
   "source": [
    "file_pattern[0:3]"
   ]
  },
  {
   "cell_type": "markdown",
   "id": "8fcccd08",
   "metadata": {},
   "source": [
    "## Generate the zarr jsons for each file"
   ]
  },
  {
   "cell_type": "code",
   "execution_count": null,
   "id": "788d9fe1",
   "metadata": {},
   "outputs": [],
   "source": [
    "so_dict = dict(default_fill_cache=False, default_cache_type=\"first\")\n",
    "output_dir = \"./hindcast2\""
   ]
  },
  {
   "cell_type": "code",
   "execution_count": null,
   "id": "fb236377",
   "metadata": {},
   "outputs": [],
   "source": [
    "import dask"
   ]
  },
  {
   "cell_type": "markdown",
   "id": "dc593b4d",
   "metadata": {},
   "source": [
    "## Start dask cluster"
   ]
  },
  {
   "cell_type": "code",
   "execution_count": null,
   "id": "821b4b33",
   "metadata": {},
   "outputs": [],
   "source": [
    "import logging\n",
    "\n",
    "from distributed import Client\n",
    "\n",
    "client = Client(n_workers=8, silence_logs=logging.ERROR)\n",
    "client"
   ]
  },
  {
   "cell_type": "markdown",
   "id": "a6499ecc",
   "metadata": {},
   "source": [
    "## Use the convenience function in kerchunk for dask\n",
    "Discovered this later, still in progress as the above gives greater flexibility yet."
   ]
  },
  {
   "cell_type": "code",
   "execution_count": null,
   "id": "ec2f510d",
   "metadata": {},
   "outputs": [],
   "source": [
    "account_dict"
   ]
  },
  {
   "cell_type": "code",
   "execution_count": null,
   "id": "96d646ab",
   "metadata": {},
   "outputs": [],
   "source": [
    "from kerchunk.combine import auto_dask\n",
    "\n",
    "auto_dask(file_pattern, single_driver=SingleHdf5ToZarr, single_kwargs = {}, mzz_kwargs = {}, \n",
    "          n_batches=8, remote_protocol='abfs', remote_options=account_dict,\n",
    "          filename = f'hindcast2_0001.json')"
   ]
  },
  {
   "cell_type": "markdown",
   "id": "abac8e78",
   "metadata": {},
   "source": [
    "## See other notebook to read using the combined files"
   ]
  },
  {
   "cell_type": "markdown",
   "id": "327807e4",
   "metadata": {},
   "source": [
    "[using combined json files to read](./azure_kerchunk_read_combined.ipynb)"
   ]
  }
 ],
 "metadata": {
  "kernelspec": {
   "display_name": "base",
   "language": "python",
   "name": "python3"
  },
  "language_info": {
   "codemirror_mode": {
    "name": "ipython",
    "version": 3
   },
   "file_extension": ".py",
   "mimetype": "text/x-python",
   "name": "python",
   "nbconvert_exporter": "python",
   "pygments_lexer": "ipython3",
   "version": "3.8.16"
  },
  "toc": {
   "base_numbering": 1,
   "nav_menu": {},
   "number_sections": true,
   "sideBar": true,
   "skip_h1_title": false,
   "title_cell": "Table of Contents",
   "title_sidebar": "Contents",
   "toc_cell": false,
   "toc_position": {},
   "toc_section_display": true,
   "toc_window_display": false
  },
  "vscode": {
   "interpreter": {
    "hash": "fe541c37d19bd001748e92c02715440003c24e68d2c970c945a21c7a9f32c2be"
   }
  }
 },
 "nbformat": 4,
 "nbformat_minor": 5
}
