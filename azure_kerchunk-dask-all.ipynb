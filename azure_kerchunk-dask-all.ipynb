{
 "cells": [
  {
   "cell_type": "markdown",
   "id": "6da8dad8",
   "metadata": {},
   "source": [
    "# Creates kerchunks from specified pattern or files on Azure Blobs"
   ]
  },
  {
   "cell_type": "code",
   "execution_count": null,
   "id": "a12b8b8e",
   "metadata": {},
   "outputs": [],
   "source": [
    "#!pip install autopep8\n",
    "\n",
    "import fsspec\n",
    "import ujson\n",
    "import xarray as xr\n",
    "from kerchunk.combine import MultiZarrToZarr\n",
    "from kerchunk.hdf import SingleHdf5ToZarr\n",
    "from tqdm import tqdm"
   ]
  },
  {
   "cell_type": "code",
   "execution_count": null,
   "id": "2583a1d6",
   "metadata": {},
   "outputs": [],
   "source": [
    "import adlfs\n",
    "\n",
    "print(adlfs.__version__)"
   ]
  },
  {
   "cell_type": "code",
   "execution_count": null,
   "id": "03c4bb6f",
   "metadata": {},
   "outputs": [],
   "source": [
    "import os\n",
    "#os.environ['AZURE_STORAGE_ACCOUNT_KEY']"
   ]
  },
  {
   "cell_type": "code",
   "execution_count": null,
   "id": "e9d273ea",
   "metadata": {},
   "outputs": [],
   "source": [
    "import kerchunk_dask"
   ]
  },
  {
   "cell_type": "code",
   "execution_count": null,
   "id": "fdb8c4eb",
   "metadata": {},
   "outputs": [],
   "source": [
    "from kerchunk_dask import retry_on_failure\n",
    "\n",
    "SingleHdf5ToZarr.translate = retry_on_failure()(SingleHdf5ToZarr.translate)\n",
    "\n",
    "MultiZarrToZarr.translate = retry_on_failure()(MultiZarrToZarr.translate)\n",
    "\n",
    "from kerchunk import combine\n",
    "\n",
    "combine.MultiZarrToZarr.translate = retry_on_failure()(combine.MultiZarrToZarr.translate)"
   ]
  },
  {
   "cell_type": "markdown",
   "id": "dc593b4d",
   "metadata": {},
   "source": [
    "## Start dask cluster"
   ]
  },
  {
   "cell_type": "code",
   "execution_count": null,
   "id": "fb236377",
   "metadata": {},
   "outputs": [],
   "source": [
    "import dask\n",
    "\n",
    "import logging\n",
    "\n",
    "from distributed import Client\n",
    "\n",
    "client = Client(n_workers=24, silence_logs=logging.ERROR)\n",
    "client"
   ]
  },
  {
   "cell_type": "markdown",
   "id": "c1dfb63f",
   "metadata": {},
   "source": [
    "## Needs to be improved... i.e. obtained from other credentials"
   ]
  },
  {
   "cell_type": "code",
   "execution_count": null,
   "id": "8d1cb9d6",
   "metadata": {},
   "outputs": [],
   "source": [
    "# needs to be improved\n",
    "account_dict = dict(account_name = \"<get this from the azure portal: storage account name>\",\n",
    "               account_key=\"<get this from the azure portal for this account name: key>\")"
   ]
  },
  {
   "cell_type": "code",
   "execution_count": null,
   "id": "42bbb674",
   "metadata": {},
   "outputs": [],
   "source": [
    "#urls = kerchunk_dask.glob_urls('abfs://bay-delta-schism2-v58/eli/simulations/hindcast_clinic2/outputs/schout_0001_*.nc',\n",
    "#                               account_dict)\n",
    "urls = [f'abfs://bay-delta-schism2-v58/eli/simulations/hindcast_clinic2/outputs/schout_0005_{i}.nc' for i in range(1,3948)]"
   ]
  },
  {
   "cell_type": "code",
   "execution_count": null,
   "id": "7032d418",
   "metadata": {},
   "outputs": [],
   "source": [
    "urls[0:3],len(urls)"
   ]
  },
  {
   "cell_type": "code",
   "execution_count": null,
   "id": "27069868",
   "metadata": {},
   "outputs": [],
   "source": [
    "#import fsspec\n",
    "#import xarray as xr\n",
    "#fs_read = fsspec.filesystem('abfs',**account_dict)\n",
    "#ds=xr.open_dataset(fs_read.open(urls[0]))\n",
    "#ds=ds.assign_coords({'lon':ds['lon'],'lat':ds['lat']})\n",
    "#ds"
   ]
  },
  {
   "cell_type": "code",
   "execution_count": null,
   "id": "ad50ee70",
   "metadata": {},
   "outputs": [],
   "source": [
    "mzz_json_filename = '_'.join(urls[0].split('/')[-1].split('_')[0:-1])+'.json'"
   ]
  },
  {
   "cell_type": "code",
   "execution_count": null,
   "id": "0f3f9707",
   "metadata": {},
   "outputs": [],
   "source": [
    "from kerchunk.combine import auto_dask\n",
    "\n",
    "auto_dask(urls, single_driver=SingleHdf5ToZarr, \n",
    "          single_kwargs = {'storage_options': account_dict }, \n",
    "          mzz_kwargs = { #'coo_map':{'time':'cf:time'},\n",
    "                        'concat_dims':['time'] ,\n",
    "                        'identical_dims':['nSCHISM_hgrid_node', 'nSCHISM_vgrid_layers','two','nSCHISM_hgrid_face']}, \n",
    "          n_batches=24, remote_protocol='abfs', remote_options=account_dict,\n",
    "          filename = mzz_json_filename)"
   ]
  },
  {
   "cell_type": "code",
   "execution_count": null,
   "id": "93a54a0b",
   "metadata": {},
   "outputs": [],
   "source": [
    "import numpy as np\n",
    "import matplotlib.pyplot as plt\n",
    "import cartopy.crs as ccrs\n",
    "import hvplot.xarray"
   ]
  },
  {
   "cell_type": "code",
   "execution_count": null,
   "id": "1f2986c2",
   "metadata": {},
   "outputs": [],
   "source": [
    "backend_args = { \"consolidated\": False, \n",
    "                \"storage_options\": {\"fo\": mzz_json_filename,\n",
    "                                    \"remote_protocol\": \"abfs\",\"remote_options\": account_dict,\n",
    "                                    \"default_fill_cache\": True, \"default_cache_type\":\"mmap\"}\n",
    "               }"
   ]
  },
  {
   "cell_type": "code",
   "execution_count": null,
   "id": "1cdce2fd",
   "metadata": {},
   "outputs": [],
   "source": [
    "ds = xr.open_dataset(\"reference://\", backend_kwargs=backend_args, engine=\"zarr\", chunks={})# 'auto'"
   ]
  },
  {
   "cell_type": "code",
   "execution_count": null,
   "id": "c6719a70",
   "metadata": {},
   "outputs": [],
   "source": [
    "ds"
   ]
  },
  {
   "cell_type": "code",
   "execution_count": null,
   "id": "29e6de72",
   "metadata": {},
   "outputs": [],
   "source": [
    "ds.elev.isel(time=slice(0,1000),nSCHISM_hgrid_node=1000).plot()"
   ]
  },
  {
   "cell_type": "code",
   "execution_count": null,
   "id": "1d2c9061",
   "metadata": {},
   "outputs": [],
   "source": [
    "client.shutdown()"
   ]
  },
  {
   "cell_type": "markdown",
   "id": "abac8e78",
   "metadata": {},
   "source": [
    "## See other notebook to read using the combined files"
   ]
  },
  {
   "cell_type": "markdown",
   "id": "327807e4",
   "metadata": {},
   "source": [
    "[using combined json files to read](./azure_kerchunk_read_combined.ipynb)"
   ]
  }
 ],
 "metadata": {
  "kernelspec": {
   "display_name": "kerchunk",
   "language": "python",
   "name": "python3"
  },
  "language_info": {
   "codemirror_mode": {
    "name": "ipython",
    "version": 3
   },
   "file_extension": ".py",
   "mimetype": "text/x-python",
   "name": "python",
   "nbconvert_exporter": "python",
   "pygments_lexer": "ipython3",
   "version": "3.9.16"
  },
  "toc": {
   "base_numbering": 1,
   "nav_menu": {},
   "number_sections": true,
   "sideBar": true,
   "skip_h1_title": false,
   "title_cell": "Table of Contents",
   "title_sidebar": "Contents",
   "toc_cell": false,
   "toc_position": {},
   "toc_section_display": true,
   "toc_window_display": false
  }
 },
 "nbformat": 4,
 "nbformat_minor": 5
}
