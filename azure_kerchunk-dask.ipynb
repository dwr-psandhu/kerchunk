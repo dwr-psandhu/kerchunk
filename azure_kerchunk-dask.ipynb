{
 "cells": [
  {
   "cell_type": "markdown",
   "id": "6da8dad8",
   "metadata": {},
   "source": [
    "# Creates kerchunks from specified pattern or files on Azure Blobs"
   ]
  },
  {
   "cell_type": "code",
   "execution_count": null,
   "id": "a12b8b8e",
   "metadata": {},
   "outputs": [],
   "source": [
    "#!pip install autopep8\n",
    "\n",
    "import fsspec\n",
    "import ujson\n",
    "import xarray as xr\n",
    "from kerchunk.combine import MultiZarrToZarr\n",
    "from kerchunk.hdf import SingleHdf5ToZarr\n",
    "from tqdm import tqdm"
   ]
  },
  {
   "cell_type": "code",
   "execution_count": null,
   "id": "2583a1d6",
   "metadata": {},
   "outputs": [],
   "source": [
    "import adlfs\n",
    "\n",
    "print(adlfs.__version__)"
   ]
  },
  {
   "cell_type": "code",
   "execution_count": null,
   "id": "404f307b",
   "metadata": {},
   "outputs": [],
   "source": [
    "#If you want to see the available file systems\n",
    "#fsspec.available_protocols()"
   ]
  },
  {
   "cell_type": "markdown",
   "id": "c1dfb63f",
   "metadata": {},
   "source": [
    "## Needs to be improved... i.e. obtained from other credentials"
   ]
  },
  {
   "cell_type": "code",
   "execution_count": null,
   "id": "8d1cb9d6",
   "metadata": {},
   "outputs": [],
   "source": [
    "# needs to be improved\n",
    "account_dict = dict(account_name = \"<get this from the azure portal: storage account name>\",\n",
    "               account_key=\"<get this from the azure portal for this account name: key>\")"
   ]
  },
  {
   "cell_type": "code",
   "execution_count": null,
   "id": "9ae81828",
   "metadata": {},
   "outputs": [],
   "source": [
    "# Initiate fsspec filesystems for reading and writing\n",
    "fs_read = fsspec.filesystem(\"abfs\", **account_dict)\n",
    "\n",
    "#fs_write = fsspec.filesystem(\"\")\n",
    "fs_write = fsspec.filesystem(\"file\")\n",
    "\n",
    "#!az login --use-device-code"
   ]
  },
  {
   "cell_type": "code",
   "execution_count": null,
   "id": "96b7a8b2",
   "metadata": {},
   "outputs": [],
   "source": [
    "file_range=(2000,3949) # (1,1000)"
   ]
  },
  {
   "cell_type": "markdown",
   "id": "20c73838",
   "metadata": {},
   "source": [
    "# Retrieve list of available files. Can take a long time\n",
    "So instead used it to find out (by trial and error, could use a binary search here) to get the max number (3948) in this case"
   ]
  },
  {
   "cell_type": "code",
   "execution_count": null,
   "id": "b679679b",
   "metadata": {},
   "outputs": [],
   "source": [
    "blob_name = f\"abfs://bay-delta-schism2-v58/eli/simulations/hindcast_clinic2/outputs/schout_0000_{file_range[1]-1}.nc\"\n",
    "print(f'Looking for last blob name: {blob_name}')\n",
    "files_paths = fs_read.glob(blob_name)\n",
    "\n",
    "assert len(files_paths) == 1 # else you have specified to far a range, if this fails reduce the range above"
   ]
  },
  {
   "cell_type": "code",
   "execution_count": null,
   "id": "f85c1b7a",
   "metadata": {},
   "outputs": [],
   "source": [
    "# Here we prepend the prefix 'abfs://', which points to Azure Blobs.\n",
    "#file_pattern = sorted([\"abfs://\" + f for f in files_paths])# faster if you already know the patterns expected.\n",
    "file_pattern = [f'abfs://bay-delta-schism2-v58/eli/simulations/hindcast_clinic2/outputs/schout_0000_{i}.nc' \n",
    "                for i in range(*file_range)]"
   ]
  },
  {
   "cell_type": "code",
   "execution_count": null,
   "id": "0e33ffd1",
   "metadata": {},
   "outputs": [],
   "source": [
    "file_pattern[0:3]"
   ]
  },
  {
   "cell_type": "code",
   "execution_count": null,
   "id": "8b390834",
   "metadata": {},
   "outputs": [],
   "source": [
    "# seems to hang for later operations if I introspect here ...\n",
    "#ds = xr.open_dataset(fs_read.open(file_pattern[0]))\n",
    "#ds"
   ]
  },
  {
   "cell_type": "markdown",
   "id": "8fcccd08",
   "metadata": {},
   "source": [
    "## Generate the zarr jsons for each file"
   ]
  },
  {
   "cell_type": "code",
   "execution_count": null,
   "id": "788d9fe1",
   "metadata": {},
   "outputs": [],
   "source": [
    "so_dict = dict(default_fill_cache=False, default_cache_type=\"first\")\n",
    "output_dir = \"./hindcast2\""
   ]
  },
  {
   "cell_type": "code",
   "execution_count": null,
   "id": "5540dff2",
   "metadata": {},
   "outputs": [],
   "source": [
    "import time\n",
    "import functools\n",
    "\n",
    "def retry_on_failure(max_retries=3, delay=1):\n",
    "    def decorator_retry_on_failure(func):\n",
    "        @functools.wraps(func)\n",
    "        def wrapper_retry_on_failure(*args, **kwargs):\n",
    "            num_retries = 0\n",
    "            while num_retries < max_retries:\n",
    "                try:\n",
    "                    return func(*args, **kwargs)\n",
    "                except:\n",
    "                    num_retries += 1\n",
    "                    time.sleep(delay)\n",
    "            raise Exception(\"Function failed after %d retries\" % max_retries)\n",
    "        return wrapper_retry_on_failure\n",
    "    return decorator_retry_on_failure\n"
   ]
  },
  {
   "cell_type": "code",
   "execution_count": null,
   "id": "9df42334",
   "metadata": {},
   "outputs": [],
   "source": [
    "# Use Kerchunk's `SingleHdf5ToZarr` method to create a `Kerchunk` index from a NetCDF file.\n",
    "@retry_on_failure()\n",
    "def generate_json_reference(u, output_dir: str):\n",
    "    with fs_read.open(u, **so_dict) as infile:\n",
    "        h5chunks = SingleHdf5ToZarr(infile, u, inline_threshold=300)\n",
    "        fname = u.split(\"/\")[-1].strip(\".nc\")\n",
    "        outf = f\"{output_dir}/{fname}.json\"\n",
    "        with open(outf, \"wb\") as f:\n",
    "            f.write(ujson.dumps(h5chunks.translate()).encode())\n",
    "        return outf"
   ]
  },
  {
   "cell_type": "code",
   "execution_count": null,
   "id": "fb236377",
   "metadata": {},
   "outputs": [],
   "source": [
    "import dask"
   ]
  },
  {
   "cell_type": "code",
   "execution_count": null,
   "id": "2ee9ab1b",
   "metadata": {},
   "outputs": [],
   "source": [
    "#tasks = [dask.delayed(generate_json_reference)(file, output_dir, dask_key_name=file.split(\"/\")[-1]) for file in file_pattern]\n",
    "tasks = [dask.delayed(generate_json_reference)(file, output_dir) for file in file_pattern]"
   ]
  },
  {
   "cell_type": "code",
   "execution_count": null,
   "id": "44380759",
   "metadata": {},
   "outputs": [],
   "source": [
    "tasks[0:1]"
   ]
  },
  {
   "cell_type": "markdown",
   "id": "dc593b4d",
   "metadata": {},
   "source": [
    "## Start dask cluster"
   ]
  },
  {
   "cell_type": "code",
   "execution_count": null,
   "id": "821b4b33",
   "metadata": {},
   "outputs": [],
   "source": [
    "import logging\n",
    "\n",
    "from distributed import Client\n",
    "\n",
    "client = Client(n_workers=8, silence_logs=logging.ERROR)\n",
    "client"
   ]
  },
  {
   "cell_type": "code",
   "execution_count": null,
   "id": "83691eb3",
   "metadata": {},
   "outputs": [],
   "source": [
    "_=dask.compute(tasks)"
   ]
  },
  {
   "cell_type": "markdown",
   "id": "c03a32c5",
   "metadata": {},
   "source": [
    "## Combine the zarr jsons from above into a single combined one"
   ]
  },
  {
   "cell_type": "code",
   "execution_count": null,
   "id": "cd925589",
   "metadata": {},
   "outputs": [],
   "source": [
    "from kerchunk.combine import MultiZarrToZarr"
   ]
  },
  {
   "cell_type": "code",
   "execution_count": null,
   "id": "3d0b82c4",
   "metadata": {},
   "outputs": [],
   "source": [
    "json_files = [f\"{output_dir}/{f.split('/')[-1].strip('.nc')}.json\" for f in file_pattern[:-1]]"
   ]
  },
  {
   "cell_type": "code",
   "execution_count": null,
   "id": "6a00cbfc",
   "metadata": {},
   "outputs": [],
   "source": [
    "zz = MultiZarrToZarr(json_files,\n",
    "                     remote_protocol='abfs',remote_options=account_dict,\n",
    "                     concat_dims=['time'], identical_dims=['nSCHISM_hgrid_node', 'nSCHISM_vgrid_layers'])"
   ]
  },
  {
   "cell_type": "code",
   "execution_count": null,
   "id": "c45dab90",
   "metadata": {},
   "outputs": [],
   "source": [
    "with open(f'hindcast2_combined_file_{file_range[0]}_{file_range[1]}.json','wb') as ofh: \n",
    "    ofh.write(ujson.dumps(zz.translate()).encode())"
   ]
  },
  {
   "cell_type": "markdown",
   "id": "a6499ecc",
   "metadata": {},
   "source": [
    "## All of the above has a convenience function available...\n",
    "Discovered this later, still in progress as the above gives greater flexibility yet."
   ]
  },
  {
   "cell_type": "markdown",
   "id": "fbe2169c",
   "metadata": {},
   "source": [
    "from kerchunk.combine import auto_dask\n",
    "\n",
    "auto_dask(json_files, single_driver=SingleHdf5ToZarr, single_kwargs = so_dict, mzz_kwargs = {}, \n",
    "          n_batches=8, remote_protocol='abfs', remote_options=account_dict,\n",
    "          filename = f'hindcast2_combined_file_{file_range[0]}_{file_range[1]}.json')"
   ]
  },
  {
   "cell_type": "markdown",
   "id": "abac8e78",
   "metadata": {},
   "source": [
    "## See other notebook to read using the combined files"
   ]
  },
  {
   "cell_type": "markdown",
   "id": "327807e4",
   "metadata": {},
   "source": [
    "[using combined json files to read](./azure_kerchunk_read_combined.ipynb)"
   ]
  }
 ],
 "metadata": {
  "kernelspec": {
   "display_name": "base",
   "language": "python",
   "name": "python3"
  },
  "language_info": {
   "codemirror_mode": {
    "name": "ipython",
    "version": 3
   },
   "file_extension": ".py",
   "mimetype": "text/x-python",
   "name": "python",
   "nbconvert_exporter": "python",
   "pygments_lexer": "ipython3",
   "version": "3.8.15"
  },
  "toc": {
   "base_numbering": 1,
   "nav_menu": {},
   "number_sections": true,
   "sideBar": true,
   "skip_h1_title": false,
   "title_cell": "Table of Contents",
   "title_sidebar": "Contents",
   "toc_cell": false,
   "toc_position": {},
   "toc_section_display": true,
   "toc_window_display": false
  },
  "vscode": {
   "interpreter": {
    "hash": "fe541c37d19bd001748e92c02715440003c24e68d2c970c945a21c7a9f32c2be"
   }
  }
 },
 "nbformat": 4,
 "nbformat_minor": 5
}
