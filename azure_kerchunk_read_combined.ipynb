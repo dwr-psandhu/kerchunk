{
 "cells": [
  {
   "cell_type": "markdown",
   "id": "6da8dad8",
   "metadata": {},
   "source": [
    "# Uses previously generated combined zarr file to read data"
   ]
  },
  {
   "cell_type": "code",
   "execution_count": null,
   "id": "a12b8b8e",
   "metadata": {},
   "outputs": [],
   "source": [
    "#!pip install autopep8\n",
    "\n",
    "import fsspec\n",
    "import ujson\n",
    "import xarray as xr\n",
    "from kerchunk.combine import MultiZarrToZarr\n",
    "from kerchunk.hdf import SingleHdf5ToZarr\n",
    "from tqdm import tqdm"
   ]
  },
  {
   "cell_type": "code",
   "execution_count": null,
   "id": "2583a1d6",
   "metadata": {},
   "outputs": [],
   "source": [
    "import adlfs\n",
    "\n",
    "print(adlfs.__version__)"
   ]
  },
  {
   "cell_type": "code",
   "execution_count": null,
   "id": "404f307b",
   "metadata": {},
   "outputs": [],
   "source": [
    "#If you want to see the available file systems\n",
    "#fsspec.available_protocols()"
   ]
  },
  {
   "cell_type": "markdown",
   "id": "c1dfb63f",
   "metadata": {},
   "source": [
    "## Needs to be improved... i.e. obtained from other credentials"
   ]
  },
  {
   "cell_type": "code",
   "execution_count": null,
   "id": "8d1cb9d6",
   "metadata": {},
   "outputs": [],
   "source": [
    "# needs to be improved\n",
    "account_dict = dict(account_name = \"<get this from the azure portal: storage account name>\",\n",
    "               account_key=\"<get this from the azure portal for this account name: key>\")"
   ]
  },
  {
   "cell_type": "markdown",
   "id": "13c637ed",
   "metadata": {},
   "source": [
    "## Now use the combined json file to read the data\n",
    "\n",
    "** Note ** The previous steps can all be done once and the result cached in combined json. From then the lines below should be able to use it without problems"
   ]
  },
  {
   "cell_type": "code",
   "execution_count": null,
   "id": "23a68135",
   "metadata": {},
   "outputs": [],
   "source": [
    "import xarray as xr"
   ]
  },
  {
   "cell_type": "code",
   "execution_count": null,
   "id": "04433285",
   "metadata": {},
   "outputs": [],
   "source": [
    "backend_args = {\"consolidated\": False, \n",
    "                \"storage_options\": {\"fo\": \"hindcast2_0000.json\",\n",
    "                                    \"remote_protocol\": \"abfs\",\"remote_options\": account_dict,\n",
    "                                    \"default_fill_cache\": False, \"default_cache_type\":\"first\"}\n",
    "               }"
   ]
  },
  {
   "cell_type": "code",
   "execution_count": null,
   "id": "cf10a930",
   "metadata": {},
   "outputs": [],
   "source": [
    "ds = xr.open_dataset(\"reference://\", engine=\"zarr\", chunks='auto', backend_kwargs=backend_args)"
   ]
  },
  {
   "cell_type": "code",
   "execution_count": null,
   "id": "8b859356",
   "metadata": {},
   "outputs": [],
   "source": [
    "ds"
   ]
  },
  {
   "cell_type": "code",
   "execution_count": null,
   "id": "0180ec93",
   "metadata": {},
   "outputs": [],
   "source": [
    "ds.salt"
   ]
  },
  {
   "cell_type": "code",
   "execution_count": null,
   "id": "3fb5c954",
   "metadata": {},
   "outputs": [],
   "source": [
    "ds.salt.isel(time=range(1500,1600),nSCHISM_hgrid_node=1277, nSCHISM_vgrid_layers=0).plot()"
   ]
  },
  {
   "cell_type": "code",
   "execution_count": null,
   "id": "23f78d69",
   "metadata": {},
   "outputs": [],
   "source": [
    "ds.salt.isel(time=range(1500,1600),nSCHISM_hgrid_node=1277, nSCHISM_vgrid_layers=range(0,23)).plot()"
   ]
  },
  {
   "cell_type": "code",
   "execution_count": null,
   "id": "ac9e10ec",
   "metadata": {},
   "outputs": [],
   "source": [
    "ds.salt.isel(time=1500,nSCHISM_hgrid_node=range(1200,1278), nSCHISM_vgrid_layers=range(0,23)).plot()"
   ]
  },
  {
   "cell_type": "code",
   "execution_count": null,
   "id": "ed333984",
   "metadata": {},
   "outputs": [],
   "source": []
  }
 ],
 "metadata": {
  "kernelspec": {
   "display_name": "base",
   "language": "python",
   "name": "python3"
  },
  "language_info": {
   "codemirror_mode": {
    "name": "ipython",
    "version": 3
   },
   "file_extension": ".py",
   "mimetype": "text/x-python",
   "name": "python",
   "nbconvert_exporter": "python",
   "pygments_lexer": "ipython3",
   "version": "3.8.15"
  },
  "toc": {
   "base_numbering": 1,
   "nav_menu": {},
   "number_sections": true,
   "sideBar": true,
   "skip_h1_title": false,
   "title_cell": "Table of Contents",
   "title_sidebar": "Contents",
   "toc_cell": false,
   "toc_position": {},
   "toc_section_display": true,
   "toc_window_display": false
  },
  "vscode": {
   "interpreter": {
    "hash": "fe541c37d19bd001748e92c02715440003c24e68d2c970c945a21c7a9f32c2be"
   }
  }
 },
 "nbformat": 4,
 "nbformat_minor": 5
}
